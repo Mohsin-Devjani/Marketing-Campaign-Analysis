{
 "cells": [
  {
   "cell_type": "markdown",
   "metadata": {},
   "source": [
    "# EDA FINAL\n",
    "\n"
   ]
  },
  {
   "cell_type": "code",
   "execution_count": 163,
   "metadata": {},
   "outputs": [],
   "source": [
    "#import the basic libraries\n",
    "#pandas, numpy, sklearn, matplotlib, seaborn, scipy\n",
    "import pandas as pd\n",
    "import numpy as np\n",
    "import sklearn as skl\n",
    "import matplotlib.pyplot as plt\n",
    "import seaborn as sns\n",
    "import scipy as sp\n",
    "from scipy import stats\n",
    "import scipy.stats as stats\n",
    "import statsmodels.api as sm\n",
    "from statsmodels.formula.api import ols\n",
    "import re\n",
    "%matplotlib inline\n",
    "from statsmodels.stats.multicomp import (pairwise_tukeyhsd,\n",
    "                                         MultiComparison)"
   ]
  },
  {
   "cell_type": "code",
   "execution_count": 68,
   "metadata": {},
   "outputs": [],
   "source": [
    "dframe=pd.read_csv(\"old.campaign.csv\")"
   ]
  },
  {
   "cell_type": "code",
   "execution_count": 69,
   "metadata": {},
   "outputs": [
    {
     "name": "stdout",
     "output_type": "stream",
     "text": [
      "<class 'pandas.core.frame.DataFrame'>\n",
      "RangeIndex: 1000 entries, 0 to 999\n",
      "Data columns (total 12 columns):\n",
      "Name               1000 non-null object\n",
      "Age                1000 non-null int64\n",
      "Gender             1000 non-null object\n",
      "Area               1000 non-null object\n",
      "Email              1000 non-null object\n",
      "Mobile             1000 non-null object\n",
      "Logins 4 weeks     1000 non-null int64\n",
      "Logins 6 months    1000 non-null int64\n",
      "Sales 4 weeks      1000 non-null int64\n",
      "Sales 6 months     1000 non-null int64\n",
      "Sales total        1000 non-null int64\n",
      "Response           1000 non-null object\n",
      "dtypes: int64(6), object(6)\n",
      "memory usage: 93.9+ KB\n"
     ]
    }
   ],
   "source": [
    "dframe.info()"
   ]
  },
  {
   "cell_type": "code",
   "execution_count": 70,
   "metadata": {},
   "outputs": [
    {
     "data": {
      "text/html": [
       "<div>\n",
       "<style scoped>\n",
       "    .dataframe tbody tr th:only-of-type {\n",
       "        vertical-align: middle;\n",
       "    }\n",
       "\n",
       "    .dataframe tbody tr th {\n",
       "        vertical-align: top;\n",
       "    }\n",
       "\n",
       "    .dataframe thead th {\n",
       "        text-align: right;\n",
       "    }\n",
       "</style>\n",
       "<table border=\"1\" class=\"dataframe\">\n",
       "  <thead>\n",
       "    <tr style=\"text-align: right;\">\n",
       "      <th></th>\n",
       "      <th>Name</th>\n",
       "      <th>Age</th>\n",
       "      <th>Gender</th>\n",
       "      <th>Area</th>\n",
       "      <th>Email</th>\n",
       "      <th>Mobile</th>\n",
       "      <th>Logins 4 weeks</th>\n",
       "      <th>Logins 6 months</th>\n",
       "      <th>Sales 4 weeks</th>\n",
       "      <th>Sales 6 months</th>\n",
       "      <th>Sales total</th>\n",
       "      <th>Response</th>\n",
       "    </tr>\n",
       "  </thead>\n",
       "  <tbody>\n",
       "    <tr>\n",
       "      <td>0</td>\n",
       "      <td>COX</td>\n",
       "      <td>64</td>\n",
       "      <td>female</td>\n",
       "      <td>urban</td>\n",
       "      <td>free</td>\n",
       "      <td>never</td>\n",
       "      <td>1</td>\n",
       "      <td>1</td>\n",
       "      <td>0</td>\n",
       "      <td>0</td>\n",
       "      <td>0</td>\n",
       "      <td>no</td>\n",
       "    </tr>\n",
       "    <tr>\n",
       "      <td>1</td>\n",
       "      <td>FARLEY</td>\n",
       "      <td>49</td>\n",
       "      <td>male</td>\n",
       "      <td>urban</td>\n",
       "      <td>premium</td>\n",
       "      <td>never</td>\n",
       "      <td>0</td>\n",
       "      <td>4</td>\n",
       "      <td>0</td>\n",
       "      <td>0</td>\n",
       "      <td>0</td>\n",
       "      <td>yes</td>\n",
       "    </tr>\n",
       "    <tr>\n",
       "      <td>2</td>\n",
       "      <td>HYDE</td>\n",
       "      <td>63</td>\n",
       "      <td>male</td>\n",
       "      <td>urban</td>\n",
       "      <td>free</td>\n",
       "      <td>never</td>\n",
       "      <td>0</td>\n",
       "      <td>0</td>\n",
       "      <td>0</td>\n",
       "      <td>0</td>\n",
       "      <td>0</td>\n",
       "      <td>no</td>\n",
       "    </tr>\n",
       "    <tr>\n",
       "      <td>3</td>\n",
       "      <td>SANTIAGO</td>\n",
       "      <td>75</td>\n",
       "      <td>male</td>\n",
       "      <td>urban</td>\n",
       "      <td>premium</td>\n",
       "      <td>yes</td>\n",
       "      <td>0</td>\n",
       "      <td>0</td>\n",
       "      <td>0</td>\n",
       "      <td>0</td>\n",
       "      <td>0</td>\n",
       "      <td>yes</td>\n",
       "    </tr>\n",
       "    <tr>\n",
       "      <td>4</td>\n",
       "      <td>COPELAND</td>\n",
       "      <td>37</td>\n",
       "      <td>female</td>\n",
       "      <td>urban</td>\n",
       "      <td>free</td>\n",
       "      <td>yes</td>\n",
       "      <td>0</td>\n",
       "      <td>0</td>\n",
       "      <td>0</td>\n",
       "      <td>0</td>\n",
       "      <td>62</td>\n",
       "      <td>no</td>\n",
       "    </tr>\n",
       "    <tr>\n",
       "      <td>5</td>\n",
       "      <td>HUNT</td>\n",
       "      <td>30</td>\n",
       "      <td>male</td>\n",
       "      <td>urban</td>\n",
       "      <td>free</td>\n",
       "      <td>yes</td>\n",
       "      <td>0</td>\n",
       "      <td>8</td>\n",
       "      <td>0</td>\n",
       "      <td>30</td>\n",
       "      <td>30</td>\n",
       "      <td>yes</td>\n",
       "    </tr>\n",
       "    <tr>\n",
       "      <td>6</td>\n",
       "      <td>GILLESPIE</td>\n",
       "      <td>58</td>\n",
       "      <td>male</td>\n",
       "      <td>urban</td>\n",
       "      <td>free</td>\n",
       "      <td>yes</td>\n",
       "      <td>0</td>\n",
       "      <td>8</td>\n",
       "      <td>0</td>\n",
       "      <td>0</td>\n",
       "      <td>0</td>\n",
       "      <td>yes</td>\n",
       "    </tr>\n",
       "    <tr>\n",
       "      <td>7</td>\n",
       "      <td>FREEMAN</td>\n",
       "      <td>35</td>\n",
       "      <td>female</td>\n",
       "      <td>urban</td>\n",
       "      <td>free</td>\n",
       "      <td>yes</td>\n",
       "      <td>0</td>\n",
       "      <td>0</td>\n",
       "      <td>0</td>\n",
       "      <td>0</td>\n",
       "      <td>0</td>\n",
       "      <td>no</td>\n",
       "    </tr>\n",
       "    <tr>\n",
       "      <td>8</td>\n",
       "      <td>HOBBS</td>\n",
       "      <td>21</td>\n",
       "      <td>female</td>\n",
       "      <td>urban</td>\n",
       "      <td>free</td>\n",
       "      <td>never</td>\n",
       "      <td>0</td>\n",
       "      <td>8</td>\n",
       "      <td>0</td>\n",
       "      <td>0</td>\n",
       "      <td>0</td>\n",
       "      <td>no</td>\n",
       "    </tr>\n",
       "    <tr>\n",
       "      <td>9</td>\n",
       "      <td>CONLEY</td>\n",
       "      <td>35</td>\n",
       "      <td>male</td>\n",
       "      <td>urban</td>\n",
       "      <td>free</td>\n",
       "      <td>yes</td>\n",
       "      <td>0</td>\n",
       "      <td>0</td>\n",
       "      <td>0</td>\n",
       "      <td>0</td>\n",
       "      <td>155</td>\n",
       "      <td>yes</td>\n",
       "    </tr>\n",
       "  </tbody>\n",
       "</table>\n",
       "</div>"
      ],
      "text/plain": [
       "        Name  Age  Gender   Area    Email Mobile  Logins 4 weeks  \\\n",
       "0        COX   64  female  urban     free  never               1   \n",
       "1     FARLEY   49    male  urban  premium  never               0   \n",
       "2       HYDE   63    male  urban     free  never               0   \n",
       "3   SANTIAGO   75    male  urban  premium    yes               0   \n",
       "4   COPELAND   37  female  urban     free    yes               0   \n",
       "5       HUNT   30    male  urban     free    yes               0   \n",
       "6  GILLESPIE   58    male  urban     free    yes               0   \n",
       "7    FREEMAN   35  female  urban     free    yes               0   \n",
       "8      HOBBS   21  female  urban     free  never               0   \n",
       "9     CONLEY   35    male  urban     free    yes               0   \n",
       "\n",
       "   Logins 6 months  Sales 4 weeks  Sales 6 months  Sales total Response  \n",
       "0                1              0               0            0       no  \n",
       "1                4              0               0            0      yes  \n",
       "2                0              0               0            0       no  \n",
       "3                0              0               0            0      yes  \n",
       "4                0              0               0           62       no  \n",
       "5                8              0              30           30      yes  \n",
       "6                8              0               0            0      yes  \n",
       "7                0              0               0            0       no  \n",
       "8                8              0               0            0       no  \n",
       "9                0              0               0          155      yes  "
      ]
     },
     "execution_count": 70,
     "metadata": {},
     "output_type": "execute_result"
    }
   ],
   "source": [
    "dframe.head(10)\n"
   ]
  },
  {
   "cell_type": "code",
   "execution_count": 71,
   "metadata": {},
   "outputs": [
    {
     "data": {
      "text/html": [
       "<div>\n",
       "<style scoped>\n",
       "    .dataframe tbody tr th:only-of-type {\n",
       "        vertical-align: middle;\n",
       "    }\n",
       "\n",
       "    .dataframe tbody tr th {\n",
       "        vertical-align: top;\n",
       "    }\n",
       "\n",
       "    .dataframe thead th {\n",
       "        text-align: right;\n",
       "    }\n",
       "</style>\n",
       "<table border=\"1\" class=\"dataframe\">\n",
       "  <thead>\n",
       "    <tr style=\"text-align: right;\">\n",
       "      <th></th>\n",
       "      <th>Name</th>\n",
       "      <th>Age</th>\n",
       "      <th>Gender</th>\n",
       "      <th>Area</th>\n",
       "      <th>Email</th>\n",
       "      <th>Mobile</th>\n",
       "      <th>Logins 4 weeks</th>\n",
       "      <th>Logins 6 months</th>\n",
       "      <th>Sales 4 weeks</th>\n",
       "      <th>Sales 6 months</th>\n",
       "      <th>Sales total</th>\n",
       "      <th>Response</th>\n",
       "    </tr>\n",
       "  </thead>\n",
       "  <tbody>\n",
       "    <tr>\n",
       "      <td>990</td>\n",
       "      <td>WALLS</td>\n",
       "      <td>53</td>\n",
       "      <td>female</td>\n",
       "      <td>urban</td>\n",
       "      <td>free</td>\n",
       "      <td>never</td>\n",
       "      <td>2</td>\n",
       "      <td>2</td>\n",
       "      <td>0</td>\n",
       "      <td>0</td>\n",
       "      <td>0</td>\n",
       "      <td>no</td>\n",
       "    </tr>\n",
       "    <tr>\n",
       "      <td>991</td>\n",
       "      <td>HINTON</td>\n",
       "      <td>54</td>\n",
       "      <td>female</td>\n",
       "      <td>rural</td>\n",
       "      <td>free</td>\n",
       "      <td>never</td>\n",
       "      <td>0</td>\n",
       "      <td>5</td>\n",
       "      <td>0</td>\n",
       "      <td>0</td>\n",
       "      <td>0</td>\n",
       "      <td>no</td>\n",
       "    </tr>\n",
       "    <tr>\n",
       "      <td>992</td>\n",
       "      <td>GIBBS</td>\n",
       "      <td>43</td>\n",
       "      <td>female</td>\n",
       "      <td>urban</td>\n",
       "      <td>premium</td>\n",
       "      <td>yes</td>\n",
       "      <td>0</td>\n",
       "      <td>0</td>\n",
       "      <td>0</td>\n",
       "      <td>0</td>\n",
       "      <td>0</td>\n",
       "      <td>yes</td>\n",
       "    </tr>\n",
       "    <tr>\n",
       "      <td>993</td>\n",
       "      <td>JENSEN</td>\n",
       "      <td>44</td>\n",
       "      <td>female</td>\n",
       "      <td>urban</td>\n",
       "      <td>free</td>\n",
       "      <td>never</td>\n",
       "      <td>0</td>\n",
       "      <td>0</td>\n",
       "      <td>0</td>\n",
       "      <td>0</td>\n",
       "      <td>0</td>\n",
       "      <td>no</td>\n",
       "    </tr>\n",
       "    <tr>\n",
       "      <td>994</td>\n",
       "      <td>CHAPMAN</td>\n",
       "      <td>45</td>\n",
       "      <td>male</td>\n",
       "      <td>urban</td>\n",
       "      <td>premium</td>\n",
       "      <td>yes</td>\n",
       "      <td>0</td>\n",
       "      <td>0</td>\n",
       "      <td>0</td>\n",
       "      <td>0</td>\n",
       "      <td>0</td>\n",
       "      <td>yes</td>\n",
       "    </tr>\n",
       "    <tr>\n",
       "      <td>995</td>\n",
       "      <td>VANCE</td>\n",
       "      <td>24</td>\n",
       "      <td>male</td>\n",
       "      <td>urban</td>\n",
       "      <td>free</td>\n",
       "      <td>yes</td>\n",
       "      <td>0</td>\n",
       "      <td>0</td>\n",
       "      <td>0</td>\n",
       "      <td>0</td>\n",
       "      <td>0</td>\n",
       "      <td>yes</td>\n",
       "    </tr>\n",
       "    <tr>\n",
       "      <td>996</td>\n",
       "      <td>REYES</td>\n",
       "      <td>40</td>\n",
       "      <td>female</td>\n",
       "      <td>urban</td>\n",
       "      <td>premium</td>\n",
       "      <td>yes</td>\n",
       "      <td>0</td>\n",
       "      <td>9</td>\n",
       "      <td>0</td>\n",
       "      <td>183</td>\n",
       "      <td>411</td>\n",
       "      <td>yes</td>\n",
       "    </tr>\n",
       "    <tr>\n",
       "      <td>997</td>\n",
       "      <td>COHEN</td>\n",
       "      <td>27</td>\n",
       "      <td>female</td>\n",
       "      <td>urban</td>\n",
       "      <td>free</td>\n",
       "      <td>never</td>\n",
       "      <td>0</td>\n",
       "      <td>0</td>\n",
       "      <td>0</td>\n",
       "      <td>0</td>\n",
       "      <td>0</td>\n",
       "      <td>no</td>\n",
       "    </tr>\n",
       "    <tr>\n",
       "      <td>998</td>\n",
       "      <td>STOUT</td>\n",
       "      <td>40</td>\n",
       "      <td>female</td>\n",
       "      <td>urban</td>\n",
       "      <td>premium</td>\n",
       "      <td>yes</td>\n",
       "      <td>0</td>\n",
       "      <td>0</td>\n",
       "      <td>0</td>\n",
       "      <td>0</td>\n",
       "      <td>0</td>\n",
       "      <td>yes</td>\n",
       "    </tr>\n",
       "    <tr>\n",
       "      <td>999</td>\n",
       "      <td>COOLEY</td>\n",
       "      <td>45</td>\n",
       "      <td>female</td>\n",
       "      <td>urban</td>\n",
       "      <td>free</td>\n",
       "      <td>never</td>\n",
       "      <td>0</td>\n",
       "      <td>3</td>\n",
       "      <td>0</td>\n",
       "      <td>66</td>\n",
       "      <td>66</td>\n",
       "      <td>no</td>\n",
       "    </tr>\n",
       "  </tbody>\n",
       "</table>\n",
       "</div>"
      ],
      "text/plain": [
       "        Name  Age  Gender   Area    Email Mobile  Logins 4 weeks  \\\n",
       "990    WALLS   53  female  urban     free  never               2   \n",
       "991   HINTON   54  female  rural     free  never               0   \n",
       "992    GIBBS   43  female  urban  premium    yes               0   \n",
       "993   JENSEN   44  female  urban     free  never               0   \n",
       "994  CHAPMAN   45    male  urban  premium    yes               0   \n",
       "995    VANCE   24    male  urban     free    yes               0   \n",
       "996    REYES   40  female  urban  premium    yes               0   \n",
       "997    COHEN   27  female  urban     free  never               0   \n",
       "998    STOUT   40  female  urban  premium    yes               0   \n",
       "999   COOLEY   45  female  urban     free  never               0   \n",
       "\n",
       "     Logins 6 months  Sales 4 weeks  Sales 6 months  Sales total Response  \n",
       "990                2              0               0            0       no  \n",
       "991                5              0               0            0       no  \n",
       "992                0              0               0            0      yes  \n",
       "993                0              0               0            0       no  \n",
       "994                0              0               0            0      yes  \n",
       "995                0              0               0            0      yes  \n",
       "996                9              0             183          411      yes  \n",
       "997                0              0               0            0       no  \n",
       "998                0              0               0            0      yes  \n",
       "999                3              0              66           66       no  "
      ]
     },
     "execution_count": 71,
     "metadata": {},
     "output_type": "execute_result"
    }
   ],
   "source": [
    "dframe.tail(10)\n"
   ]
  },
  {
   "cell_type": "code",
   "execution_count": 72,
   "metadata": {},
   "outputs": [
    {
     "data": {
      "text/plain": [
       "(1000, 12)"
      ]
     },
     "execution_count": 72,
     "metadata": {},
     "output_type": "execute_result"
    }
   ],
   "source": [
    "dframe.shape\n"
   ]
  },
  {
   "cell_type": "code",
   "execution_count": 73,
   "metadata": {},
   "outputs": [
    {
     "data": {
      "text/plain": [
       "Index(['Name', 'Age', 'Gender', 'Area', 'Email', 'Mobile', 'Logins 4 weeks',\n",
       "       'Logins 6 months', 'Sales 4 weeks', 'Sales 6 months', 'Sales total',\n",
       "       'Response'],\n",
       "      dtype='object')"
      ]
     },
     "execution_count": 73,
     "metadata": {},
     "output_type": "execute_result"
    }
   ],
   "source": [
    "dframe.columns\n"
   ]
  },
  {
   "cell_type": "code",
   "execution_count": 74,
   "metadata": {},
   "outputs": [
    {
     "data": {
      "text/plain": [
       "Name               object\n",
       "Age                 int64\n",
       "Gender             object\n",
       "Area               object\n",
       "Email              object\n",
       "Mobile             object\n",
       "Logins 4 weeks      int64\n",
       "Logins 6 months     int64\n",
       "Sales 4 weeks       int64\n",
       "Sales 6 months      int64\n",
       "Sales total         int64\n",
       "Response           object\n",
       "dtype: object"
      ]
     },
     "execution_count": 74,
     "metadata": {},
     "output_type": "execute_result"
    }
   ],
   "source": [
    "dframe.dtypes"
   ]
  },
  {
   "cell_type": "code",
   "execution_count": 187,
   "metadata": {},
   "outputs": [
    {
     "data": {
      "text/plain": [
       "no     556\n",
       "yes    444\n",
       "Name: Response, dtype: int64"
      ]
     },
     "execution_count": 187,
     "metadata": {},
     "output_type": "execute_result"
    }
   ],
   "source": [
    "dframe['Response'].value_counts()"
   ]
  },
  {
   "cell_type": "code",
   "execution_count": 192,
   "metadata": {},
   "outputs": [
    {
     "data": {
      "text/plain": [
       "28978"
      ]
     },
     "execution_count": 192,
     "metadata": {},
     "output_type": "execute_result"
    }
   ],
   "source": [
    "dframe['st'].sum()"
   ]
  },
  {
   "cell_type": "markdown",
   "metadata": {},
   "source": [
    "# Dropping Name column as unnecessary "
   ]
  },
  {
   "cell_type": "code",
   "execution_count": 75,
   "metadata": {},
   "outputs": [],
   "source": [
    "del dframe['Name']"
   ]
  },
  {
   "cell_type": "code",
   "execution_count": 76,
   "metadata": {},
   "outputs": [
    {
     "data": {
      "text/plain": [
       "Age                 int64\n",
       "Gender             object\n",
       "Area               object\n",
       "Email              object\n",
       "Mobile             object\n",
       "Logins 4 weeks      int64\n",
       "Logins 6 months     int64\n",
       "Sales 4 weeks       int64\n",
       "Sales 6 months      int64\n",
       "Sales total         int64\n",
       "Response           object\n",
       "dtype: object"
      ]
     },
     "execution_count": 76,
     "metadata": {},
     "output_type": "execute_result"
    }
   ],
   "source": [
    "dframe.dtypes"
   ]
  },
  {
   "cell_type": "markdown",
   "metadata": {},
   "source": [
    "## EDA "
   ]
  },
  {
   "cell_type": "code",
   "execution_count": 77,
   "metadata": {},
   "outputs": [
    {
     "name": "stdout",
     "output_type": "stream",
     "text": [
      "Gender\n"
     ]
    },
    {
     "data": {
      "image/png": "[encoded data removed]",
      "text/plain": [
       "<Figure size 432x288 with 1 Axes>"
      ]
     },
     "metadata": {
      "needs_background": "light"
     },
     "output_type": "display_data"
    },
    {
     "name": "stdout",
     "output_type": "stream",
     "text": [
      "Area\n"
     ]
    },
    {
     "data": {
      "image/png": "[encoded data removed]",
      "text/plain": [
       "<Figure size 432x288 with 1 Axes>"
      ]
     },
     "metadata": {
      "needs_background": "light"
     },
     "output_type": "display_data"
    },
    {
     "name": "stdout",
     "output_type": "stream",
     "text": [
      "Email\n"
     ]
    },
    {
     "data": {
      "image/png": "[encoded data removed]",
      "text/plain": [
       "<Figure size 432x288 with 1 Axes>"
      ]
     },
     "metadata": {
      "needs_background": "light"
     },
     "output_type": "display_data"
    },
    {
     "name": "stdout",
     "output_type": "stream",
     "text": [
      "Mobile\n"
     ]
    },
    {
     "data": {
      "image/png": "[encoded data removed]",
      "text/plain": [
       "<Figure size 432x288 with 1 Axes>"
      ]
     },
     "metadata": {
      "needs_background": "light"
     },
     "output_type": "display_data"
    },
    {
     "name": "stdout",
     "output_type": "stream",
     "text": [
      "Response\n"
     ]
    },
    {
     "data": {
      "image/png": "[encoded data removed]",
      "text/plain": [
       "<Figure size 432x288 with 1 Axes>"
      ]
     },
     "metadata": {
      "needs_background": "light"
     },
     "output_type": "display_data"
    }
   ],
   "source": [
    "for column in dframe.columns :\n",
    "    if dframe[column].dtype == 'object':\n",
    "        print(column)\n",
    "        prob = dframe[column].value_counts(normalize=True)\n",
    "        prob.plot.barh()\n",
    "        plt.xticks()\n",
    "        plt.show()"
   ]
  },
  {
   "cell_type": "code",
   "execution_count": 78,
   "metadata": {},
   "outputs": [],
   "source": [
    "# For Numeric Values"
   ]
  },
  {
   "cell_type": "code",
   "execution_count": 79,
   "metadata": {},
   "outputs": [
    {
     "data": {
      "text/plain": [
       "Age                 int64\n",
       "Gender             object\n",
       "Area               object\n",
       "Email              object\n",
       "Mobile             object\n",
       "Logins 4 weeks      int64\n",
       "Logins 6 months     int64\n",
       "Sales 4 weeks       int64\n",
       "Sales 6 months      int64\n",
       "Sales total         int64\n",
       "Response           object\n",
       "dtype: object"
      ]
     },
     "execution_count": 79,
     "metadata": {},
     "output_type": "execute_result"
    }
   ],
   "source": [
    "dframe.dtypes"
   ]
  },
  {
   "cell_type": "code",
   "execution_count": 80,
   "metadata": {},
   "outputs": [
    {
     "name": "stdout",
     "output_type": "stream",
     "text": [
      "Age\n",
      "Histogram\n"
     ]
    },
    {
     "data": {
      "image/png": "[encoded data removed]",
      "text/plain": [
       "<Figure size 432x288 with 1 Axes>"
      ]
     },
     "metadata": {
      "needs_background": "light"
     },
     "output_type": "display_data"
    },
    {
     "name": "stdout",
     "output_type": "stream",
     "text": [
      "Logins 4 weeks\n",
      "Histogram\n"
     ]
    },
    {
     "data": {
      "image/png": "[encoded data removed]",
      "text/plain": [
       "<Figure size 432x288 with 1 Axes>"
      ]
     },
     "metadata": {
      "needs_background": "light"
     },
     "output_type": "display_data"
    },
    {
     "name": "stdout",
     "output_type": "stream",
     "text": [
      "Logins 6 months\n",
      "Histogram\n"
     ]
    },
    {
     "data": {
      "image/png": "[encoded data removed]",
      "text/plain": [
       "<Figure size 432x288 with 1 Axes>"
      ]
     },
     "metadata": {
      "needs_background": "light"
     },
     "output_type": "display_data"
    },
    {
     "name": "stdout",
     "output_type": "stream",
     "text": [
      "Sales 4 weeks\n",
      "Histogram\n"
     ]
    },
    {
     "data": {
      "image/png": "[encoded data removed]",
      "text/plain": [
       "<Figure size 432x288 with 1 Axes>"
      ]
     },
     "metadata": {
      "needs_background": "light"
     },
     "output_type": "display_data"
    },
    {
     "name": "stdout",
     "output_type": "stream",
     "text": [
      "Sales 6 months\n",
      "Histogram\n"
     ]
    },
    {
     "data": {
      "image/png": "[encoded data removed]",
      "text/plain": [
       "<Figure size 432x288 with 1 Axes>"
      ]
     },
     "metadata": {
      "needs_background": "light"
     },
     "output_type": "display_data"
    },
    {
     "name": "stdout",
     "output_type": "stream",
     "text": [
      "Sales total\n",
      "Histogram\n"
     ]
    },
    {
     "data": {
      "image/png": "[encoded data removed]",
      "text/plain": [
       "<Figure size 432x288 with 1 Axes>"
      ]
     },
     "metadata": {
      "needs_background": "light"
     },
     "output_type": "display_data"
    }
   ],
   "source": [
    "for column in dframe.columns :\n",
    "    if dframe[column].dtype == 'int64' :\n",
    "        print(column)\n",
    "        print(\"Histogram\")\n",
    "        sns.distplot(dframe[column])\n",
    "        plt.show()"
   ]
  },
  {
   "cell_type": "code",
   "execution_count": 81,
   "metadata": {},
   "outputs": [
    {
     "name": "stdout",
     "output_type": "stream",
     "text": [
      "Age\n",
      "BOX PLOT\n"
     ]
    },
    {
     "data": {
      "image/png": "[encoded data removed]",
      "text/plain": [
       "<Figure size 432x288 with 1 Axes>"
      ]
     },
     "metadata": {
      "needs_background": "light"
     },
     "output_type": "display_data"
    },
    {
     "name": "stdout",
     "output_type": "stream",
     "text": [
      "Logins 4 weeks\n",
      "BOX PLOT\n"
     ]
    },
    {
     "data": {
      "image/png": "[encoded data removed]",
      "text/plain": [
       "<Figure size 432x288 with 1 Axes>"
      ]
     },
     "metadata": {
      "needs_background": "light"
     },
     "output_type": "display_data"
    },
    {
     "name": "stdout",
     "output_type": "stream",
     "text": [
      "Logins 6 months\n",
      "BOX PLOT\n"
     ]
    },
    {
     "data": {
      "image/png": "[encoded data removed]",
      "text/plain": [
       "<Figure size 432x288 with 1 Axes>"
      ]
     },
     "metadata": {
      "needs_background": "light"
     },
     "output_type": "display_data"
    },
    {
     "name": "stdout",
     "output_type": "stream",
     "text": [
      "Sales 4 weeks\n",
      "BOX PLOT\n"
     ]
    },
    {
     "data": {
      "image/png": "[encoded data removed]",
      "text/plain": [
       "<Figure size 432x288 with 1 Axes>"
      ]
     },
     "metadata": {
      "needs_background": "light"
     },
     "output_type": "display_data"
    },
    {
     "name": "stdout",
     "output_type": "stream",
     "text": [
      "Sales 6 months\n",
      "BOX PLOT\n"
     ]
    },
    {
     "data": {
      "image/png": "[encoded data removed]",
      "text/plain": [
       "<Figure size 432x288 with 1 Axes>"
      ]
     },
     "metadata": {
      "needs_background": "light"
     },
     "output_type": "display_data"
    },
    {
     "name": "stdout",
     "output_type": "stream",
     "text": [
      "Sales total\n",
      "BOX PLOT\n"
     ]
    },
    {
     "data": {
      "image/png": "[encoded data removed]",
      "text/plain": [
       "<Figure size 432x288 with 1 Axes>"
      ]
     },
     "metadata": {
      "needs_background": "light"
     },
     "output_type": "display_data"
    }
   ],
   "source": [
    "for column in dframe.columns :\n",
    "    if dframe[column].dtype == 'int64' or dframe[column].dtype == 'float64' :\n",
    "        print(column)\n",
    "        print(\"BOX PLOT\")\n",
    "        sns.boxplot(data = dframe[column])\n",
    "        plt.show()"
   ]
  },
  {
   "cell_type": "code",
   "execution_count": 97,
   "metadata": {},
   "outputs": [],
   "source": [
    "# Outlier Removal Function\n",
    "def outlier(df,column):\n",
    "    first = df[column].quantile(0.25)\n",
    "    third = df[column].quantile(0.75)\n",
    "    IQR = first - third\n",
    "    noOutlier = dframe[(dframe[column] >= first - 1.5 * IQR) & (dframe[column] <= third + 1.5 *IQR)]\n",
    "    return noOutlier\n"
   ]
  },
  {
   "cell_type": "code",
   "execution_count": 87,
   "metadata": {},
   "outputs": [
    {
     "data": {
      "text/plain": [
       "count    1000.000000\n",
       "mean        3.578000\n",
       "std         5.498559\n",
       "min         0.000000\n",
       "25%         0.000000\n",
       "50%         1.000000\n",
       "75%         5.000000\n",
       "max        37.000000\n",
       "Name: Logins 6 months, dtype: float64"
      ]
     },
     "execution_count": 87,
     "metadata": {},
     "output_type": "execute_result"
    }
   ],
   "source": [
    "dframe['Logins 6 months'].describe()"
   ]
  },
  {
   "cell_type": "code",
   "execution_count": 90,
   "metadata": {},
   "outputs": [
    {
     "name": "stdout",
     "output_type": "stream",
     "text": [
      "3.578\n"
     ]
    }
   ],
   "source": [
    "dfmean = dframe['Logins 6 months'].mean()\n",
    "print(dfmean)"
   ]
  },
  {
   "cell_type": "code",
   "execution_count": 94,
   "metadata": {},
   "outputs": [],
   "source": [
    "# removing \n",
    "df1 = dframe['Logins 6 months'].replace([np.arange(8,40)], dfmean)\n"
   ]
  },
  {
   "cell_type": "code",
   "execution_count": 95,
   "metadata": {},
   "outputs": [
    {
     "data": {
      "text/plain": [
       "<matplotlib.axes._subplots.AxesSubplot at 0x1dfdc5b5dc8>"
      ]
     },
     "execution_count": 95,
     "metadata": {},
     "output_type": "execute_result"
    },
    {
     "data": {
      "image/png": "[encoded data removed]",
      "text/plain": [
       "<Figure size 432x288 with 1 Axes>"
      ]
     },
     "metadata": {
      "needs_background": "light"
     },
     "output_type": "display_data"
    }
   ],
   "source": [
    "sns.boxplot(data = df1)"
   ]
  },
  {
   "cell_type": "code",
   "execution_count": 104,
   "metadata": {},
   "outputs": [
    {
     "data": {
      "text/plain": [
       "<matplotlib.axes._subplots.AxesSubplot at 0x1dfdc44ca08>"
      ]
     },
     "execution_count": 104,
     "metadata": {},
     "output_type": "execute_result"
    },
    {
     "data": {
      "image/png": "[encoded data removed]",
      "text/plain": [
       "<Figure size 432x288 with 1 Axes>"
      ]
     },
     "metadata": {
      "needs_background": "light"
     },
     "output_type": "display_data"
    }
   ],
   "source": [
    "df2 = outlier(dframe,'Sales total')\n",
    "sns.boxplot(df2['Sales total'])"
   ]
  },
  {
   "cell_type": "code",
   "execution_count": 105,
   "metadata": {},
   "outputs": [
    {
     "data": {
      "text/plain": [
       "<matplotlib.axes._subplots.AxesSubplot at 0x1dfdd05a208>"
      ]
     },
     "execution_count": 105,
     "metadata": {},
     "output_type": "execute_result"
    },
    {
     "data": {
      "image/png": "[encoded data removed]",
      "text/plain": [
       "<Figure size 432x288 with 1 Axes>"
      ]
     },
     "metadata": {
      "needs_background": "light"
     },
     "output_type": "display_data"
    }
   ],
   "source": [
    "df3 = outlier(dframe,'Sales 4 weeks')\n",
    "sns.boxplot(df3['Sales 4 weeks'])"
   ]
  },
  {
   "cell_type": "code",
   "execution_count": 106,
   "metadata": {},
   "outputs": [
    {
     "data": {
      "text/plain": [
       "<matplotlib.axes._subplots.AxesSubplot at 0x1dfdd0b7908>"
      ]
     },
     "execution_count": 106,
     "metadata": {},
     "output_type": "execute_result"
    },
    {
     "data": {
      "image/png": "[encoded data removed]",
      "text/plain": [
       "<Figure size 432x288 with 1 Axes>"
      ]
     },
     "metadata": {
      "needs_background": "light"
     },
     "output_type": "display_data"
    }
   ],
   "source": [
    "df4 = outlier(dframe,'Sales 6 months')\n",
    "sns.boxplot(df4['Sales 6 months'])"
   ]
  },
  {
   "cell_type": "code",
   "execution_count": 107,
   "metadata": {},
   "outputs": [
    {
     "data": {
      "text/plain": [
       "<matplotlib.axes._subplots.AxesSubplot at 0x1dfde0ee988>"
      ]
     },
     "execution_count": 107,
     "metadata": {},
     "output_type": "execute_result"
    },
    {
     "data": {
      "image/png": "[encoded data removed]",
      "text/plain": [
       "<Figure size 432x288 with 1 Axes>"
      ]
     },
     "metadata": {
      "needs_background": "light"
     },
     "output_type": "display_data"
    }
   ],
   "source": [
    "df5 = outlier(dframe,'Logins 4 weeks')\n",
    "sns.boxplot(df5['Logins 4 weeks'])"
   ]
  },
  {
   "cell_type": "code",
   "execution_count": 108,
   "metadata": {},
   "outputs": [],
   "source": [
    "# all values other than zero ae outliers\n"
   ]
  },
  {
   "cell_type": "markdown",
   "metadata": {},
   "source": [
    "# T TEST"
   ]
  },
  {
   "cell_type": "code",
   "execution_count": 110,
   "metadata": {},
   "outputs": [
    {
     "data": {
      "text/html": [
       "<div>\n",
       "<style scoped>\n",
       "    .dataframe tbody tr th:only-of-type {\n",
       "        vertical-align: middle;\n",
       "    }\n",
       "\n",
       "    .dataframe tbody tr th {\n",
       "        vertical-align: top;\n",
       "    }\n",
       "\n",
       "    .dataframe thead th {\n",
       "        text-align: right;\n",
       "    }\n",
       "</style>\n",
       "<table border=\"1\" class=\"dataframe\">\n",
       "  <thead>\n",
       "    <tr style=\"text-align: right;\">\n",
       "      <th></th>\n",
       "      <th>Age</th>\n",
       "      <th>Gender</th>\n",
       "      <th>Area</th>\n",
       "      <th>Email</th>\n",
       "      <th>Mobile</th>\n",
       "      <th>Logins 4 weeks</th>\n",
       "      <th>Logins 6 months</th>\n",
       "      <th>Sales 4 weeks</th>\n",
       "      <th>Sales 6 months</th>\n",
       "      <th>Sales total</th>\n",
       "      <th>Response</th>\n",
       "    </tr>\n",
       "  </thead>\n",
       "  <tbody>\n",
       "    <tr>\n",
       "      <td>0</td>\n",
       "      <td>64</td>\n",
       "      <td>female</td>\n",
       "      <td>urban</td>\n",
       "      <td>free</td>\n",
       "      <td>never</td>\n",
       "      <td>1</td>\n",
       "      <td>1</td>\n",
       "      <td>0</td>\n",
       "      <td>0</td>\n",
       "      <td>0</td>\n",
       "      <td>no</td>\n",
       "    </tr>\n",
       "    <tr>\n",
       "      <td>1</td>\n",
       "      <td>49</td>\n",
       "      <td>male</td>\n",
       "      <td>urban</td>\n",
       "      <td>premium</td>\n",
       "      <td>never</td>\n",
       "      <td>0</td>\n",
       "      <td>4</td>\n",
       "      <td>0</td>\n",
       "      <td>0</td>\n",
       "      <td>0</td>\n",
       "      <td>yes</td>\n",
       "    </tr>\n",
       "    <tr>\n",
       "      <td>2</td>\n",
       "      <td>63</td>\n",
       "      <td>male</td>\n",
       "      <td>urban</td>\n",
       "      <td>free</td>\n",
       "      <td>never</td>\n",
       "      <td>0</td>\n",
       "      <td>0</td>\n",
       "      <td>0</td>\n",
       "      <td>0</td>\n",
       "      <td>0</td>\n",
       "      <td>no</td>\n",
       "    </tr>\n",
       "    <tr>\n",
       "      <td>3</td>\n",
       "      <td>75</td>\n",
       "      <td>male</td>\n",
       "      <td>urban</td>\n",
       "      <td>premium</td>\n",
       "      <td>yes</td>\n",
       "      <td>0</td>\n",
       "      <td>0</td>\n",
       "      <td>0</td>\n",
       "      <td>0</td>\n",
       "      <td>0</td>\n",
       "      <td>yes</td>\n",
       "    </tr>\n",
       "    <tr>\n",
       "      <td>4</td>\n",
       "      <td>37</td>\n",
       "      <td>female</td>\n",
       "      <td>urban</td>\n",
       "      <td>free</td>\n",
       "      <td>yes</td>\n",
       "      <td>0</td>\n",
       "      <td>0</td>\n",
       "      <td>0</td>\n",
       "      <td>0</td>\n",
       "      <td>62</td>\n",
       "      <td>no</td>\n",
       "    </tr>\n",
       "    <tr>\n",
       "      <td>5</td>\n",
       "      <td>30</td>\n",
       "      <td>male</td>\n",
       "      <td>urban</td>\n",
       "      <td>free</td>\n",
       "      <td>yes</td>\n",
       "      <td>0</td>\n",
       "      <td>8</td>\n",
       "      <td>0</td>\n",
       "      <td>30</td>\n",
       "      <td>30</td>\n",
       "      <td>yes</td>\n",
       "    </tr>\n",
       "    <tr>\n",
       "      <td>6</td>\n",
       "      <td>58</td>\n",
       "      <td>male</td>\n",
       "      <td>urban</td>\n",
       "      <td>free</td>\n",
       "      <td>yes</td>\n",
       "      <td>0</td>\n",
       "      <td>8</td>\n",
       "      <td>0</td>\n",
       "      <td>0</td>\n",
       "      <td>0</td>\n",
       "      <td>yes</td>\n",
       "    </tr>\n",
       "    <tr>\n",
       "      <td>7</td>\n",
       "      <td>35</td>\n",
       "      <td>female</td>\n",
       "      <td>urban</td>\n",
       "      <td>free</td>\n",
       "      <td>yes</td>\n",
       "      <td>0</td>\n",
       "      <td>0</td>\n",
       "      <td>0</td>\n",
       "      <td>0</td>\n",
       "      <td>0</td>\n",
       "      <td>no</td>\n",
       "    </tr>\n",
       "    <tr>\n",
       "      <td>8</td>\n",
       "      <td>21</td>\n",
       "      <td>female</td>\n",
       "      <td>urban</td>\n",
       "      <td>free</td>\n",
       "      <td>never</td>\n",
       "      <td>0</td>\n",
       "      <td>8</td>\n",
       "      <td>0</td>\n",
       "      <td>0</td>\n",
       "      <td>0</td>\n",
       "      <td>no</td>\n",
       "    </tr>\n",
       "    <tr>\n",
       "      <td>9</td>\n",
       "      <td>35</td>\n",
       "      <td>male</td>\n",
       "      <td>urban</td>\n",
       "      <td>free</td>\n",
       "      <td>yes</td>\n",
       "      <td>0</td>\n",
       "      <td>0</td>\n",
       "      <td>0</td>\n",
       "      <td>0</td>\n",
       "      <td>155</td>\n",
       "      <td>yes</td>\n",
       "    </tr>\n",
       "  </tbody>\n",
       "</table>\n",
       "</div>"
      ],
      "text/plain": [
       "   Age  Gender   Area    Email Mobile  Logins 4 weeks  Logins 6 months  \\\n",
       "0   64  female  urban     free  never               1                1   \n",
       "1   49    male  urban  premium  never               0                4   \n",
       "2   63    male  urban     free  never               0                0   \n",
       "3   75    male  urban  premium    yes               0                0   \n",
       "4   37  female  urban     free    yes               0                0   \n",
       "5   30    male  urban     free    yes               0                8   \n",
       "6   58    male  urban     free    yes               0                8   \n",
       "7   35  female  urban     free    yes               0                0   \n",
       "8   21  female  urban     free  never               0                8   \n",
       "9   35    male  urban     free    yes               0                0   \n",
       "\n",
       "   Sales 4 weeks  Sales 6 months  Sales total Response  \n",
       "0              0               0            0       no  \n",
       "1              0               0            0      yes  \n",
       "2              0               0            0       no  \n",
       "3              0               0            0      yes  \n",
       "4              0               0           62       no  \n",
       "5              0              30           30      yes  \n",
       "6              0               0            0      yes  \n",
       "7              0               0            0       no  \n",
       "8              0               0            0       no  \n",
       "9              0               0          155      yes  "
      ]
     },
     "execution_count": 110,
     "metadata": {},
     "output_type": "execute_result"
    }
   ],
   "source": [
    "dframe.head(10)"
   ]
  },
  {
   "cell_type": "code",
   "execution_count": 111,
   "metadata": {},
   "outputs": [
    {
     "data": {
      "text/plain": [
       "count      1000\n",
       "unique        2\n",
       "top       urban\n",
       "freq        820\n",
       "Name: Area, dtype: object"
      ]
     },
     "execution_count": 111,
     "metadata": {},
     "output_type": "execute_result"
    }
   ],
   "source": [
    "dframe['Area'].describe()"
   ]
  },
  {
   "cell_type": "code",
   "execution_count": 115,
   "metadata": {},
   "outputs": [
    {
     "name": "stdout",
     "output_type": "stream",
     "text": [
      "0.40934819998464733\n"
     ]
    }
   ],
   "source": [
    "# NULL HYPOTHESIS NO DIFFERENCE IN TARGETTING RURAL AND URBAN \n",
    "urban = dframe[dframe['Area']=='urban']\n",
    "rural = dframe[dframe['Area']=='rural']\n",
    "t, p = stats.ttest_ind(urban['Sales total'],rural['Sales total'])\n",
    "print(p)"
   ]
  },
  {
   "cell_type": "code",
   "execution_count": 114,
   "metadata": {},
   "outputs": [],
   "source": [
    "# Analysis of Above T Test\n",
    "# no relation\n",
    "# NULL HYPOTHESIS ACCEPTED AS P VALUE IS GREATER THAN 5% \n"
   ]
  },
  {
   "cell_type": "code",
   "execution_count": 117,
   "metadata": {},
   "outputs": [
    {
     "name": "stdout",
     "output_type": "stream",
     "text": [
      "1.1250615464146332e-12\n"
     ]
    }
   ],
   "source": [
    "# NULL HYPOTHESIS NO DIFFERENCE IN RESPONSES\n",
    "yes = dframe[dframe['Response']=='yes']\n",
    "no = dframe[dframe['Response']=='no']\n",
    "t, p = stats.ttest_ind(yes['Sales total'],no['Sales total'])\n",
    "print(p)"
   ]
  },
  {
   "cell_type": "code",
   "execution_count": 118,
   "metadata": {},
   "outputs": [],
   "source": [
    "# Analysis of above T Test\n",
    "# relation= yes , hypothesis rejected\n",
    "# Sales total is dependent on Responses\n"
   ]
  },
  {
   "cell_type": "markdown",
   "metadata": {},
   "source": [
    "# 1 way Anova"
   ]
  },
  {
   "cell_type": "code",
   "execution_count": 119,
   "metadata": {},
   "outputs": [
    {
     "data": {
      "text/plain": [
       "Age                 int64\n",
       "Gender             object\n",
       "Area               object\n",
       "Email              object\n",
       "Mobile             object\n",
       "Logins 4 weeks      int64\n",
       "Logins 6 months     int64\n",
       "Sales 4 weeks       int64\n",
       "Sales 6 months      int64\n",
       "Sales total         int64\n",
       "Response           object\n",
       "dtype: object"
      ]
     },
     "execution_count": 119,
     "metadata": {},
     "output_type": "execute_result"
    }
   ],
   "source": [
    "dframe.dtypes"
   ]
  },
  {
   "cell_type": "code",
   "execution_count": 121,
   "metadata": {},
   "outputs": [
    {
     "name": "stdout",
     "output_type": "stream",
     "text": [
      "count    1000.000000\n",
      "mean       46.549000\n",
      "std        18.439947\n",
      "min        17.000000\n",
      "25%        32.000000\n",
      "50%        45.000000\n",
      "75%        59.000000\n",
      "max        91.000000\n",
      "Name: Age, dtype: float64\n",
      "count     1000\n",
      "unique       2\n",
      "top       male\n",
      "freq       542\n",
      "Name: Gender, dtype: object\n",
      "count      1000\n",
      "unique        2\n",
      "top       urban\n",
      "freq        820\n",
      "Name: Area, dtype: object\n",
      "count     1000\n",
      "unique       2\n",
      "top       free\n",
      "freq       791\n",
      "Name: Email, dtype: object\n",
      "count      1000\n",
      "unique        3\n",
      "top       never\n",
      "freq        624\n",
      "Name: Mobile, dtype: object\n",
      "count    1000.000000\n",
      "mean        1.615000\n",
      "std         3.585196\n",
      "min         0.000000\n",
      "25%         0.000000\n",
      "50%         0.000000\n",
      "75%         0.000000\n",
      "max        25.000000\n",
      "Name: Logins 4 weeks, dtype: float64\n",
      "count    1000.000000\n",
      "mean        3.578000\n",
      "std         5.498559\n",
      "min         0.000000\n",
      "25%         0.000000\n",
      "50%         1.000000\n",
      "75%         5.000000\n",
      "max        37.000000\n",
      "Name: Logins 6 months, dtype: float64\n",
      "count    1000.000000\n",
      "mean        3.790000\n",
      "std        20.573312\n",
      "min         0.000000\n",
      "25%         0.000000\n",
      "50%         0.000000\n",
      "75%         0.000000\n",
      "max       263.000000\n",
      "Name: Sales 4 weeks, dtype: float64\n",
      "count    1000.000000\n",
      "mean       14.575000\n",
      "std        47.151624\n",
      "min         0.000000\n",
      "25%         0.000000\n",
      "50%         0.000000\n",
      "75%         0.000000\n",
      "max       384.000000\n",
      "Name: Sales 6 months, dtype: float64\n",
      "count    1000.000000\n",
      "mean       28.978000\n",
      "std        68.503228\n",
      "min         0.000000\n",
      "25%         0.000000\n",
      "50%         0.000000\n",
      "75%         0.000000\n",
      "max       519.000000\n",
      "Name: Sales total, dtype: float64\n",
      "count     1000\n",
      "unique       2\n",
      "top         no\n",
      "freq       556\n",
      "Name: Response, dtype: object\n"
     ]
    }
   ],
   "source": [
    "for column in dframe.columns :\n",
    "    print(dframe[column].describe())"
   ]
  },
  {
   "cell_type": "code",
   "execution_count": 127,
   "metadata": {},
   "outputs": [
    {
     "data": {
      "text/plain": [
       "Age                 int64\n",
       "Gender             object\n",
       "Area               object\n",
       "Email              object\n",
       "Mobile             object\n",
       "Logins 4 weeks      int64\n",
       "Logins 6 months     int64\n",
       "Sales 4 weeks       int64\n",
       "Sales 6 months      int64\n",
       "Sales total         int64\n",
       "Response           object\n",
       "dtype: object"
      ]
     },
     "execution_count": 127,
     "metadata": {},
     "output_type": "execute_result"
    }
   ],
   "source": [
    "dframe.dtypes"
   ]
  },
  {
   "cell_type": "code",
   "execution_count": 129,
   "metadata": {},
   "outputs": [],
   "source": [
    "dframe.rename(columns={\"Logins 4 weeks\":\"l6w\"}, inplace=True)\n",
    "dframe.rename(columns={\"Logins 6 months\":\"l6m\"}, inplace=True)\n",
    "dframe.rename(columns={\"Sales 4 weeks\":\"s4w\"}, inplace=True)\n",
    "dframe.rename(columns={\"Sales 6 months\":\"s6m\"}, inplace=True)\n",
    "dframe.rename(columns={\"Sales total\":\"st\"}, inplace=True)\n"
   ]
  },
  {
   "cell_type": "code",
   "execution_count": 130,
   "metadata": {},
   "outputs": [
    {
     "data": {
      "text/plain": [
       "Age          int64\n",
       "Gender      object\n",
       "Area        object\n",
       "Email       object\n",
       "Mobile      object\n",
       "l6w          int64\n",
       "l6m          int64\n",
       "s4w          int64\n",
       "s6m          int64\n",
       "st           int64\n",
       "Response    object\n",
       "dtype: object"
      ]
     },
     "execution_count": 130,
     "metadata": {},
     "output_type": "execute_result"
    }
   ],
   "source": [
    "dframe.dtypes"
   ]
  },
  {
   "cell_type": "code",
   "execution_count": 131,
   "metadata": {},
   "outputs": [
    {
     "name": "stdout",
     "output_type": "stream",
     "text": [
      "             df        sum_sq      mean_sq         F    PR(>F)\n",
      "Email       1.0  4.971721e+03  4971.720937  1.059523  0.303573\n",
      "Residual  998.0  4.683028e+06  4692.412620       NaN       NaN\n"
     ]
    }
   ],
   "source": [
    "mod = ols('st ~ Email',dframe).fit()\n",
    "var = sm.stats.anova_lm(mod)\n",
    "print(var)"
   ]
  },
  {
   "cell_type": "code",
   "execution_count": 132,
   "metadata": {},
   "outputs": [],
   "source": [
    "# Analysis of above Shows no dependency of email, Null Hypothesis accepted"
   ]
  },
  {
   "cell_type": "markdown",
   "metadata": {},
   "source": [
    "# 2 way anova"
   ]
  },
  {
   "cell_type": "code",
   "execution_count": 134,
   "metadata": {},
   "outputs": [
    {
     "name": "stdout",
     "output_type": "stream",
     "text": [
      "                      df        sum_sq      mean_sq         F    PR(>F)\n",
      "C(Area)              1.0  3.197994e+03  3197.994320  0.680062  0.409763\n",
      "C(Gender)            1.0  1.987867e+00     1.987867  0.000423  0.983601\n",
      "C(Area):C(Gender)    1.0  1.108318e+03  1108.317974  0.235687  0.627446\n",
      "Residual           996.0  4.683691e+06  4702.501221       NaN       NaN\n"
     ]
    }
   ],
   "source": [
    "mod = ols('st ~ C(Area)*C(Gender)',dframe).fit()\n",
    "var = sm.stats.anova_lm(mod)\n",
    "print(var)"
   ]
  },
  {
   "cell_type": "code",
   "execution_count": 135,
   "metadata": {},
   "outputs": [],
   "source": [
    "# Above analysis shows no depencies"
   ]
  },
  {
   "cell_type": "code",
   "execution_count": 136,
   "metadata": {},
   "outputs": [
    {
     "name": "stdout",
     "output_type": "stream",
     "text": [
      "                        df        sum_sq        mean_sq          F  \\\n",
      "C(Area)                1.0  3.197994e+03    3197.994320   0.718277   \n",
      "C(Response)            1.0  2.290110e+05  229011.005318  51.436392   \n",
      "C(Area):C(Response)    1.0  2.128503e+04   21285.029347   4.780666   \n",
      "Residual             996.0  4.434505e+06    4452.314746        NaN   \n",
      "\n",
      "                           PR(>F)  \n",
      "C(Area)              3.969133e-01  \n",
      "C(Response)          1.440965e-12  \n",
      "C(Area):C(Response)  2.901309e-02  \n",
      "Residual                      NaN  \n"
     ]
    }
   ],
   "source": [
    "mod = ols('st ~ C(Area)*C(Response)',dframe).fit()\n",
    "var = sm.stats.anova_lm(mod)\n",
    "print(var)"
   ]
  },
  {
   "cell_type": "code",
   "execution_count": 137,
   "metadata": {},
   "outputs": [],
   "source": [
    "# Null hypothesis rejected, relation is there"
   ]
  },
  {
   "cell_type": "code",
   "execution_count": 138,
   "metadata": {},
   "outputs": [
    {
     "name": "stdout",
     "output_type": "stream",
     "text": [
      "                          df        sum_sq        mean_sq          F  \\\n",
      "C(Gender)                1.0  3.890321e+00       3.890321   0.000876   \n",
      "C(Response)              1.0  2.427746e+05  242774.639203  54.693941   \n",
      "C(Gender):C(Response)    1.0  2.419126e+04   24191.255995   5.449973   \n",
      "Residual               996.0  4.421030e+06    4438.784870        NaN   \n",
      "\n",
      "                             PR(>F)  \n",
      "C(Gender)              9.763882e-01  \n",
      "C(Response)            2.984464e-13  \n",
      "C(Gender):C(Response)  1.976661e-02  \n",
      "Residual                        NaN  \n"
     ]
    }
   ],
   "source": [
    "mod = ols('st ~ C(Gender)*C(Response)',dframe).fit()\n",
    "var = sm.stats.anova_lm(mod)\n",
    "print(var)"
   ]
  },
  {
   "cell_type": "code",
   "execution_count": null,
   "metadata": {},
   "outputs": [],
   "source": [
    "# Null hypothesis rejected, relation is there"
   ]
  },
  {
   "cell_type": "code",
   "execution_count": 139,
   "metadata": {},
   "outputs": [
    {
     "name": "stdout",
     "output_type": "stream",
     "text": [
      "                         df        sum_sq        mean_sq          F  \\\n",
      "C(Email)                1.0  4.971721e+03    4971.720937   1.119878   \n",
      "C(Response)             1.0  2.595883e+05  259588.264734  58.472127   \n",
      "C(Email):C(Response)    1.0  1.676113e+03    1676.113036   0.377544   \n",
      "Residual              996.0  4.421763e+06    4439.521503        NaN   \n",
      "\n",
      "                            PR(>F)  \n",
      "C(Email)              2.902014e-01  \n",
      "C(Response)           4.844985e-14  \n",
      "C(Email):C(Response)  5.390611e-01  \n",
      "Residual                       NaN  \n"
     ]
    }
   ],
   "source": [
    "mod = ols('st ~ C(Email)*C(Response)',dframe).fit()\n",
    "var = sm.stats.anova_lm(mod)\n",
    "print(var)"
   ]
  },
  {
   "cell_type": "code",
   "execution_count": 140,
   "metadata": {},
   "outputs": [],
   "source": [
    "# Null hypothesis rejected, relation is there"
   ]
  },
  {
   "cell_type": "code",
   "execution_count": 143,
   "metadata": {},
   "outputs": [
    {
     "data": {
      "text/plain": [
       "Age          int64\n",
       "Gender      object\n",
       "Area        object\n",
       "Email       object\n",
       "Mobile      object\n",
       "l6w          int64\n",
       "l6m          int64\n",
       "s4w          int64\n",
       "s6m          int64\n",
       "st           int64\n",
       "Response    object\n",
       "dtype: object"
      ]
     },
     "execution_count": 143,
     "metadata": {},
     "output_type": "execute_result"
    }
   ],
   "source": [
    "dframe.dtypes"
   ]
  },
  {
   "cell_type": "code",
   "execution_count": 146,
   "metadata": {},
   "outputs": [],
   "source": [
    "dfcor = dframe[['Age','l6w','l6m','s4w','s6m','st']]"
   ]
  },
  {
   "cell_type": "code",
   "execution_count": 152,
   "metadata": {},
   "outputs": [
    {
     "data": {
      "text/html": [
       "<div>\n",
       "<style scoped>\n",
       "    .dataframe tbody tr th:only-of-type {\n",
       "        vertical-align: middle;\n",
       "    }\n",
       "\n",
       "    .dataframe tbody tr th {\n",
       "        vertical-align: top;\n",
       "    }\n",
       "\n",
       "    .dataframe thead th {\n",
       "        text-align: right;\n",
       "    }\n",
       "</style>\n",
       "<table border=\"1\" class=\"dataframe\">\n",
       "  <thead>\n",
       "    <tr style=\"text-align: right;\">\n",
       "      <th></th>\n",
       "      <th>Age</th>\n",
       "      <th>l6w</th>\n",
       "      <th>l6m</th>\n",
       "      <th>s4w</th>\n",
       "      <th>s6m</th>\n",
       "      <th>st</th>\n",
       "    </tr>\n",
       "  </thead>\n",
       "  <tbody>\n",
       "    <tr>\n",
       "      <td>Age</td>\n",
       "      <td>1.000000</td>\n",
       "      <td>0.034346</td>\n",
       "      <td>0.030750</td>\n",
       "      <td>0.048361</td>\n",
       "      <td>0.002990</td>\n",
       "      <td>-0.000567</td>\n",
       "    </tr>\n",
       "    <tr>\n",
       "      <td>l6w</td>\n",
       "      <td>0.034346</td>\n",
       "      <td>1.000000</td>\n",
       "      <td>0.709797</td>\n",
       "      <td>0.313863</td>\n",
       "      <td>0.136283</td>\n",
       "      <td>0.068170</td>\n",
       "    </tr>\n",
       "    <tr>\n",
       "      <td>l6m</td>\n",
       "      <td>0.030750</td>\n",
       "      <td>0.709797</td>\n",
       "      <td>1.000000</td>\n",
       "      <td>0.204321</td>\n",
       "      <td>0.274675</td>\n",
       "      <td>0.173994</td>\n",
       "    </tr>\n",
       "    <tr>\n",
       "      <td>s4w</td>\n",
       "      <td>0.048361</td>\n",
       "      <td>0.313863</td>\n",
       "      <td>0.204321</td>\n",
       "      <td>1.000000</td>\n",
       "      <td>0.411679</td>\n",
       "      <td>0.269572</td>\n",
       "    </tr>\n",
       "    <tr>\n",
       "      <td>s6m</td>\n",
       "      <td>0.002990</td>\n",
       "      <td>0.136283</td>\n",
       "      <td>0.274675</td>\n",
       "      <td>0.411679</td>\n",
       "      <td>1.000000</td>\n",
       "      <td>0.686884</td>\n",
       "    </tr>\n",
       "    <tr>\n",
       "      <td>st</td>\n",
       "      <td>-0.000567</td>\n",
       "      <td>0.068170</td>\n",
       "      <td>0.173994</td>\n",
       "      <td>0.269572</td>\n",
       "      <td>0.686884</td>\n",
       "      <td>1.000000</td>\n",
       "    </tr>\n",
       "  </tbody>\n",
       "</table>\n",
       "</div>"
      ],
      "text/plain": [
       "          Age       l6w       l6m       s4w       s6m        st\n",
       "Age  1.000000  0.034346  0.030750  0.048361  0.002990 -0.000567\n",
       "l6w  0.034346  1.000000  0.709797  0.313863  0.136283  0.068170\n",
       "l6m  0.030750  0.709797  1.000000  0.204321  0.274675  0.173994\n",
       "s4w  0.048361  0.313863  0.204321  1.000000  0.411679  0.269572\n",
       "s6m  0.002990  0.136283  0.274675  0.411679  1.000000  0.686884\n",
       "st  -0.000567  0.068170  0.173994  0.269572  0.686884  1.000000"
      ]
     },
     "execution_count": 152,
     "metadata": {},
     "output_type": "execute_result"
    }
   ],
   "source": [
    "dfcor.corr()"
   ]
  },
  {
   "cell_type": "code",
   "execution_count": 151,
   "metadata": {},
   "outputs": [
    {
     "data": {
      "image/png": "[encoded data removed]",
      "text/plain": [
       "<Figure size 576x576 with 2 Axes>"
      ]
     },
     "metadata": {
      "needs_background": "light"
     },
     "output_type": "display_data"
    }
   ],
   "source": [
    "plt.figure(figsize=(8,8))\n",
    "sns.heatmap(dfcor.corr(),annot= True)\n",
    "plt.show()"
   ]
  },
  {
   "cell_type": "code",
   "execution_count": 153,
   "metadata": {},
   "outputs": [],
   "source": [
    "# Age and Sales are indirectly propotional, hence can be said that big people are not contributing to the sales"
   ]
  },
  {
   "cell_type": "code",
   "execution_count": 155,
   "metadata": {},
   "outputs": [
    {
     "data": {
      "text/html": [
       "<div>\n",
       "<style scoped>\n",
       "    .dataframe tbody tr th:only-of-type {\n",
       "        vertical-align: middle;\n",
       "    }\n",
       "\n",
       "    .dataframe tbody tr th {\n",
       "        vertical-align: top;\n",
       "    }\n",
       "\n",
       "    .dataframe thead th {\n",
       "        text-align: right;\n",
       "    }\n",
       "</style>\n",
       "<table border=\"1\" class=\"dataframe\">\n",
       "  <thead>\n",
       "    <tr style=\"text-align: right;\">\n",
       "      <th>Response</th>\n",
       "      <th>no</th>\n",
       "      <th>yes</th>\n",
       "      <th>All</th>\n",
       "    </tr>\n",
       "    <tr>\n",
       "      <th>Gender</th>\n",
       "      <th></th>\n",
       "      <th></th>\n",
       "      <th></th>\n",
       "    </tr>\n",
       "  </thead>\n",
       "  <tbody>\n",
       "    <tr>\n",
       "      <td>female</td>\n",
       "      <td>306</td>\n",
       "      <td>152</td>\n",
       "      <td>458</td>\n",
       "    </tr>\n",
       "    <tr>\n",
       "      <td>male</td>\n",
       "      <td>250</td>\n",
       "      <td>292</td>\n",
       "      <td>542</td>\n",
       "    </tr>\n",
       "    <tr>\n",
       "      <td>All</td>\n",
       "      <td>556</td>\n",
       "      <td>444</td>\n",
       "      <td>1000</td>\n",
       "    </tr>\n",
       "  </tbody>\n",
       "</table>\n",
       "</div>"
      ],
      "text/plain": [
       "Response   no  yes   All\n",
       "Gender                  \n",
       "female    306  152   458\n",
       "male      250  292   542\n",
       "All       556  444  1000"
      ]
     },
     "execution_count": 155,
     "metadata": {},
     "output_type": "execute_result"
    }
   ],
   "source": [
    "pd.crosstab(dframe.Gender,dframe.Response,margins=True)"
   ]
  },
  {
   "cell_type": "code",
   "execution_count": 156,
   "metadata": {},
   "outputs": [],
   "source": [
    "# Males responded more in comparison to females"
   ]
  },
  {
   "cell_type": "code",
   "execution_count": 157,
   "metadata": {},
   "outputs": [
    {
     "data": {
      "text/html": [
       "<div>\n",
       "<style scoped>\n",
       "    .dataframe tbody tr th:only-of-type {\n",
       "        vertical-align: middle;\n",
       "    }\n",
       "\n",
       "    .dataframe tbody tr th {\n",
       "        vertical-align: top;\n",
       "    }\n",
       "\n",
       "    .dataframe thead th {\n",
       "        text-align: right;\n",
       "    }\n",
       "</style>\n",
       "<table border=\"1\" class=\"dataframe\">\n",
       "  <thead>\n",
       "    <tr style=\"text-align: right;\">\n",
       "      <th>Response</th>\n",
       "      <th>no</th>\n",
       "      <th>yes</th>\n",
       "      <th>All</th>\n",
       "    </tr>\n",
       "    <tr>\n",
       "      <th>Area</th>\n",
       "      <th></th>\n",
       "      <th></th>\n",
       "      <th></th>\n",
       "    </tr>\n",
       "  </thead>\n",
       "  <tbody>\n",
       "    <tr>\n",
       "      <td>rural</td>\n",
       "      <td>129</td>\n",
       "      <td>51</td>\n",
       "      <td>180</td>\n",
       "    </tr>\n",
       "    <tr>\n",
       "      <td>urban</td>\n",
       "      <td>427</td>\n",
       "      <td>393</td>\n",
       "      <td>820</td>\n",
       "    </tr>\n",
       "    <tr>\n",
       "      <td>All</td>\n",
       "      <td>556</td>\n",
       "      <td>444</td>\n",
       "      <td>1000</td>\n",
       "    </tr>\n",
       "  </tbody>\n",
       "</table>\n",
       "</div>"
      ],
      "text/plain": [
       "Response   no  yes   All\n",
       "Area                    \n",
       "rural     129   51   180\n",
       "urban     427  393   820\n",
       "All       556  444  1000"
      ]
     },
     "execution_count": 157,
     "metadata": {},
     "output_type": "execute_result"
    }
   ],
   "source": [
    "pd.crosstab(dframe.Area,dframe.Response,margins=True)"
   ]
  },
  {
   "cell_type": "code",
   "execution_count": 158,
   "metadata": {},
   "outputs": [],
   "source": [
    "# Urban population response was more than rural at abt 47.9% of Yes"
   ]
  },
  {
   "cell_type": "code",
   "execution_count": 159,
   "metadata": {},
   "outputs": [
    {
     "data": {
      "text/html": [
       "<div>\n",
       "<style scoped>\n",
       "    .dataframe tbody tr th:only-of-type {\n",
       "        vertical-align: middle;\n",
       "    }\n",
       "\n",
       "    .dataframe tbody tr th {\n",
       "        vertical-align: top;\n",
       "    }\n",
       "\n",
       "    .dataframe thead th {\n",
       "        text-align: right;\n",
       "    }\n",
       "</style>\n",
       "<table border=\"1\" class=\"dataframe\">\n",
       "  <thead>\n",
       "    <tr style=\"text-align: right;\">\n",
       "      <th>Response</th>\n",
       "      <th>no</th>\n",
       "      <th>yes</th>\n",
       "      <th>All</th>\n",
       "    </tr>\n",
       "    <tr>\n",
       "      <th>Email</th>\n",
       "      <th></th>\n",
       "      <th></th>\n",
       "      <th></th>\n",
       "    </tr>\n",
       "  </thead>\n",
       "  <tbody>\n",
       "    <tr>\n",
       "      <td>free</td>\n",
       "      <td>536</td>\n",
       "      <td>255</td>\n",
       "      <td>791</td>\n",
       "    </tr>\n",
       "    <tr>\n",
       "      <td>premium</td>\n",
       "      <td>20</td>\n",
       "      <td>189</td>\n",
       "      <td>209</td>\n",
       "    </tr>\n",
       "    <tr>\n",
       "      <td>All</td>\n",
       "      <td>556</td>\n",
       "      <td>444</td>\n",
       "      <td>1000</td>\n",
       "    </tr>\n",
       "  </tbody>\n",
       "</table>\n",
       "</div>"
      ],
      "text/plain": [
       "Response   no  yes   All\n",
       "Email                   \n",
       "free      536  255   791\n",
       "premium    20  189   209\n",
       "All       556  444  1000"
      ]
     },
     "execution_count": 159,
     "metadata": {},
     "output_type": "execute_result"
    }
   ],
   "source": [
    "pd.crosstab(dframe.Email,dframe.Response,margins=True)"
   ]
  },
  {
   "cell_type": "code",
   "execution_count": 160,
   "metadata": {},
   "outputs": [],
   "source": [
    "# Premium Email users responded with total 90% yes"
   ]
  },
  {
   "cell_type": "code",
   "execution_count": 161,
   "metadata": {},
   "outputs": [
    {
     "data": {
      "text/plain": [
       "Age          int64\n",
       "Gender      object\n",
       "Area        object\n",
       "Email       object\n",
       "Mobile      object\n",
       "l6w          int64\n",
       "l6m          int64\n",
       "s4w          int64\n",
       "s6m          int64\n",
       "st           int64\n",
       "Response    object\n",
       "dtype: object"
      ]
     },
     "execution_count": 161,
     "metadata": {},
     "output_type": "execute_result"
    }
   ],
   "source": [
    "dframe.dtypes"
   ]
  },
  {
   "cell_type": "code",
   "execution_count": 182,
   "metadata": {},
   "outputs": [
    {
     "name": "stdout",
     "output_type": "stream",
     "text": [
      "Multiple Comparison of Means - Tukey HSD, FWER=0.05 \n",
      "====================================================\n",
      "group1 group2 meandiff p-adj   lower   upper  reject\n",
      "----------------------------------------------------\n",
      " rural  urban   4.6547 0.4093 -6.4118 15.7213  False\n",
      "----------------------------------------------------\n"
     ]
    }
   ],
   "source": [
    "mc = sm.stats.multicomp.MultiComparison(dframe['st'], dframe['Area'])\n",
    "mc_results = mc.tukeyhsd()\n",
    "print(mc_results)"
   ]
  },
  {
   "cell_type": "code",
   "execution_count": 167,
   "metadata": {},
   "outputs": [],
   "source": [
    "# no sig diff observed"
   ]
  },
  {
   "cell_type": "code",
   "execution_count": null,
   "metadata": {},
   "outputs": [],
   "source": []
  }
 ],
 "metadata": {
  "kernelspec": {
   "display_name": "Python 3",
   "language": "python",
   "name": "python3"
  },
  "language_info": {
   "codemirror_mode": {
    "name": "ipython",
    "version": 3
   },
   "file_extension": ".py",
   "mimetype": "text/x-python",
   "name": "python",
   "nbconvert_exporter": "python",
   "pygments_lexer": "ipython3",
   "version": "3.7.4"
  }
 },
 "nbformat": 4,
 "nbformat_minor": 2
}
